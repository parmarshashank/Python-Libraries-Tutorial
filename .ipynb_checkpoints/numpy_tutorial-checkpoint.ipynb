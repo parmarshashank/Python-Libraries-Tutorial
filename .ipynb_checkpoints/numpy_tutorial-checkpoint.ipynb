{
 "cells": [
  {
   "cell_type": "code",
   "execution_count": 5,
   "id": "5c02e538-2e89-44a8-a808-c69609ddf42c",
   "metadata": {},
   "outputs": [
    {
     "name": "stdout",
     "output_type": "stream",
     "text": [
      "[1 2 3]\n"
     ]
    },
    {
     "data": {
      "text/plain": [
       "['T',\n",
       " '__abs__',\n",
       " '__add__',\n",
       " '__and__',\n",
       " '__array__',\n",
       " '__array_finalize__',\n",
       " '__array_function__',\n",
       " '__array_interface__',\n",
       " '__array_prepare__',\n",
       " '__array_priority__',\n",
       " '__array_struct__',\n",
       " '__array_ufunc__',\n",
       " '__array_wrap__',\n",
       " '__bool__',\n",
       " '__buffer__',\n",
       " '__class__',\n",
       " '__class_getitem__',\n",
       " '__complex__',\n",
       " '__contains__',\n",
       " '__copy__',\n",
       " '__deepcopy__',\n",
       " '__delattr__',\n",
       " '__delitem__',\n",
       " '__dir__',\n",
       " '__divmod__',\n",
       " '__dlpack__',\n",
       " '__dlpack_device__',\n",
       " '__doc__',\n",
       " '__eq__',\n",
       " '__float__',\n",
       " '__floordiv__',\n",
       " '__format__',\n",
       " '__ge__',\n",
       " '__getattribute__',\n",
       " '__getitem__',\n",
       " '__getstate__',\n",
       " '__gt__',\n",
       " '__hash__',\n",
       " '__iadd__',\n",
       " '__iand__',\n",
       " '__ifloordiv__',\n",
       " '__ilshift__',\n",
       " '__imatmul__',\n",
       " '__imod__',\n",
       " '__imul__',\n",
       " '__index__',\n",
       " '__init__',\n",
       " '__init_subclass__',\n",
       " '__int__',\n",
       " '__invert__',\n",
       " '__ior__',\n",
       " '__ipow__',\n",
       " '__irshift__',\n",
       " '__isub__',\n",
       " '__iter__',\n",
       " '__itruediv__',\n",
       " '__ixor__',\n",
       " '__le__',\n",
       " '__len__',\n",
       " '__lshift__',\n",
       " '__lt__',\n",
       " '__matmul__',\n",
       " '__mod__',\n",
       " '__mul__',\n",
       " '__ne__',\n",
       " '__neg__',\n",
       " '__new__',\n",
       " '__or__',\n",
       " '__pos__',\n",
       " '__pow__',\n",
       " '__radd__',\n",
       " '__rand__',\n",
       " '__rdivmod__',\n",
       " '__reduce__',\n",
       " '__reduce_ex__',\n",
       " '__repr__',\n",
       " '__rfloordiv__',\n",
       " '__rlshift__',\n",
       " '__rmatmul__',\n",
       " '__rmod__',\n",
       " '__rmul__',\n",
       " '__ror__',\n",
       " '__rpow__',\n",
       " '__rrshift__',\n",
       " '__rshift__',\n",
       " '__rsub__',\n",
       " '__rtruediv__',\n",
       " '__rxor__',\n",
       " '__setattr__',\n",
       " '__setitem__',\n",
       " '__setstate__',\n",
       " '__sizeof__',\n",
       " '__str__',\n",
       " '__sub__',\n",
       " '__subclasshook__',\n",
       " '__truediv__',\n",
       " '__xor__',\n",
       " 'all',\n",
       " 'any',\n",
       " 'argmax',\n",
       " 'argmin',\n",
       " 'argpartition',\n",
       " 'argsort',\n",
       " 'astype',\n",
       " 'base',\n",
       " 'byteswap',\n",
       " 'choose',\n",
       " 'clip',\n",
       " 'compress',\n",
       " 'conj',\n",
       " 'conjugate',\n",
       " 'copy',\n",
       " 'ctypes',\n",
       " 'cumprod',\n",
       " 'cumsum',\n",
       " 'data',\n",
       " 'diagonal',\n",
       " 'dot',\n",
       " 'dtype',\n",
       " 'dump',\n",
       " 'dumps',\n",
       " 'fill',\n",
       " 'flags',\n",
       " 'flat',\n",
       " 'flatten',\n",
       " 'getfield',\n",
       " 'imag',\n",
       " 'item',\n",
       " 'itemset',\n",
       " 'itemsize',\n",
       " 'max',\n",
       " 'mean',\n",
       " 'min',\n",
       " 'nbytes',\n",
       " 'ndim',\n",
       " 'newbyteorder',\n",
       " 'nonzero',\n",
       " 'partition',\n",
       " 'prod',\n",
       " 'ptp',\n",
       " 'put',\n",
       " 'ravel',\n",
       " 'real',\n",
       " 'repeat',\n",
       " 'reshape',\n",
       " 'resize',\n",
       " 'round',\n",
       " 'searchsorted',\n",
       " 'setfield',\n",
       " 'setflags',\n",
       " 'shape',\n",
       " 'size',\n",
       " 'sort',\n",
       " 'squeeze',\n",
       " 'std',\n",
       " 'strides',\n",
       " 'sum',\n",
       " 'swapaxes',\n",
       " 'take',\n",
       " 'tobytes',\n",
       " 'tofile',\n",
       " 'tolist',\n",
       " 'tostring',\n",
       " 'trace',\n",
       " 'transpose',\n",
       " 'var',\n",
       " 'view']"
      ]
     },
     "execution_count": 5,
     "metadata": {},
     "output_type": "execute_result"
    }
   ],
   "source": [
    "import numpy as np\n",
    "a=np.array([1,2,3])\n",
    "print(a)\n",
    "a.shape\n",
    "dir(a)"
   ]
  },
  {
   "cell_type": "code",
   "execution_count": 7,
   "id": "7b408eff-005c-4444-b0b0-7ce9056ac53f",
   "metadata": {},
   "outputs": [
    {
     "name": "stdout",
     "output_type": "stream",
     "text": [
      "[[1 2 3 4 5 6]]\n"
     ]
    }
   ],
   "source": [
    "b=[1,2,3,4,5,6]\n",
    "arr= np.array(b, ndmin=2)\n",
    "print(arr)"
   ]
  },
  {
   "cell_type": "code",
   "execution_count": 8,
   "id": "647a48a2-07af-4202-ab50-5447b482357b",
   "metadata": {},
   "outputs": [
    {
     "data": {
      "text/plain": [
       "array([10, 20, 30], dtype=int8)"
      ]
     },
     "execution_count": 8,
     "metadata": {},
     "output_type": "execute_result"
    }
   ],
   "source": [
    "dt = np.dtype([('age',np.int8)])\n",
    "a = np.array([(10,),(20,),(30,)], dtype=dt)\n",
    "a['age']"
   ]
  },
  {
   "cell_type": "code",
   "execution_count": 9,
   "id": "aa528f8d-b389-4136-85fa-84140f300f3f",
   "metadata": {},
   "outputs": [
    {
     "data": {
      "text/plain": [
       "array([[1, 2],\n",
       "       [3, 4],\n",
       "       [5, 6]])"
      ]
     },
     "execution_count": 9,
     "metadata": {},
     "output_type": "execute_result"
    }
   ],
   "source": [
    "a = np.array([[1,2,3],[4,5,6]])\n",
    "b = a.reshape(3,2)\n",
    "b"
   ]
  },
  {
   "cell_type": "code",
   "execution_count": 10,
   "id": "bbf7fc89-a735-4a5f-a05e-5381aa81f933",
   "metadata": {},
   "outputs": [
    {
     "data": {
      "text/plain": [
       "2"
      ]
     },
     "execution_count": 10,
     "metadata": {},
     "output_type": "execute_result"
    }
   ],
   "source": [
    "b.ndim"
   ]
  },
  {
   "cell_type": "code",
   "execution_count": 13,
   "id": "a8747288-4a9f-465e-ae8e-118855798efc",
   "metadata": {},
   "outputs": [
    {
     "name": "stdout",
     "output_type": "stream",
     "text": [
      "[0 1 2 3 4 5 6 7 8 9]\n"
     ]
    },
    {
     "data": {
      "text/plain": [
       "  C_CONTIGUOUS : True\n",
       "  F_CONTIGUOUS : True\n",
       "  OWNDATA : True\n",
       "  WRITEABLE : True\n",
       "  ALIGNED : True\n",
       "  WRITEBACKIFCOPY : False"
      ]
     },
     "execution_count": 13,
     "metadata": {},
     "output_type": "execute_result"
    }
   ],
   "source": [
    "arr=np.arange(10)\n",
    "print(arr)\n",
    "arr.itemsize\n",
    "arr.flags"
   ]
  },
  {
   "cell_type": "code",
   "execution_count": 15,
   "id": "a3b71c9f-3dde-438d-9fa3-3f53cafafd3e",
   "metadata": {},
   "outputs": [
    {
     "ename": "ValueError",
     "evalue": "assignment destination is read-only",
     "output_type": "error",
     "traceback": [
      "\u001b[1;31m---------------------------------------------------------------------------\u001b[0m",
      "\u001b[1;31mValueError\u001b[0m                                Traceback (most recent call last)",
      "Cell \u001b[1;32mIn[15], line 2\u001b[0m\n\u001b[0;32m      1\u001b[0m arr\u001b[38;5;241m.\u001b[39mflags\u001b[38;5;241m.\u001b[39mwriteable\u001b[38;5;241m=\u001b[39m\u001b[38;5;28;01mFalse\u001b[39;00m\n\u001b[1;32m----> 2\u001b[0m \u001b[43marr\u001b[49m\u001b[43m[\u001b[49m\u001b[38;5;241;43m2\u001b[39;49m\u001b[43m]\u001b[49m\u001b[38;5;241m=\u001b[39m\u001b[38;5;241m1\u001b[39m\n",
      "\u001b[1;31mValueError\u001b[0m: assignment destination is read-only"
     ]
    }
   ],
   "source": [
    "arr.flags.writeable=False\n",
    "arr[2]=1"
   ]
  },
  {
   "cell_type": "code",
   "execution_count": 16,
   "id": "5b31cc8b-5cd7-4a15-9b52-a83bdbabad92",
   "metadata": {},
   "outputs": [
    {
     "data": {
      "text/plain": [
       "False"
      ]
     },
     "execution_count": 16,
     "metadata": {},
     "output_type": "execute_result"
    }
   ],
   "source": [
    "arr.flags.writeable"
   ]
  },
  {
   "cell_type": "code",
   "execution_count": 19,
   "id": "19930848-1180-4a0c-b167-9adf2a7be757",
   "metadata": {},
   "outputs": [],
   "source": [
    "arr=np.empty((2,1), dtype=np.int8)"
   ]
  },
  {
   "cell_type": "code",
   "execution_count": 20,
   "id": "f04406b3-890f-4e45-90c5-c9705f2ebdac",
   "metadata": {},
   "outputs": [
    {
     "data": {
      "text/plain": [
       "array([[1],\n",
       "       [1]], dtype=int8)"
      ]
     },
     "execution_count": 20,
     "metadata": {},
     "output_type": "execute_result"
    }
   ],
   "source": [
    "arr"
   ]
  },
  {
   "cell_type": "code",
   "execution_count": 21,
   "id": "ddcefa06-f2a7-43a1-814c-6f4d87445578",
   "metadata": {},
   "outputs": [
    {
     "data": {
      "text/plain": [
       "array([[0., 0.]])"
      ]
     },
     "execution_count": 21,
     "metadata": {},
     "output_type": "execute_result"
    }
   ],
   "source": [
    "arr0= np.zeros([1,2])\n",
    "arr0"
   ]
  },
  {
   "cell_type": "code",
   "execution_count": 22,
   "id": "3b6460a9-729f-42f6-a492-1d1ea05343a3",
   "metadata": {},
   "outputs": [
    {
     "data": {
      "text/plain": [
       "array([[1., 1., 1., 1.],\n",
       "       [1., 1., 1., 1.]])"
      ]
     },
     "execution_count": 22,
     "metadata": {},
     "output_type": "execute_result"
    }
   ],
   "source": [
    "arr1=np.ones([2,4])\n",
    "arr1"
   ]
  },
  {
   "cell_type": "code",
   "execution_count": 23,
   "id": "6afb74ea-ef05-4f6d-be83-d22a046e42f3",
   "metadata": {},
   "outputs": [
    {
     "data": {
      "text/plain": [
       "array([1, 2, 3])"
      ]
     },
     "execution_count": 23,
     "metadata": {},
     "output_type": "execute_result"
    }
   ],
   "source": [
    "x = [1,2,3]\n",
    "a = np.asarray(x)\n",
    "a"
   ]
  },
  {
   "cell_type": "code",
   "execution_count": 26,
   "id": "a9573f60-fbdf-46e6-914b-9b02bc9584ea",
   "metadata": {},
   "outputs": [
    {
     "ename": "ValueError",
     "evalue": "setting an array element with a sequence. The requested array has an inhomogeneous shape after 1 dimensions. The detected shape was (2,) + inhomogeneous part.",
     "output_type": "error",
     "traceback": [
      "\u001b[1;31m---------------------------------------------------------------------------\u001b[0m",
      "\u001b[1;31mValueError\u001b[0m                                Traceback (most recent call last)",
      "Cell \u001b[1;32mIn[26], line 4\u001b[0m\n\u001b[0;32m      1\u001b[0m \u001b[38;5;28;01mimport\u001b[39;00m \u001b[38;5;21;01mnumpy\u001b[39;00m \u001b[38;5;28;01mas\u001b[39;00m \u001b[38;5;21;01mnp\u001b[39;00m\n\u001b[0;32m      3\u001b[0m x \u001b[38;5;241m=\u001b[39m [(\u001b[38;5;241m1\u001b[39m, \u001b[38;5;241m2\u001b[39m, \u001b[38;5;241m3\u001b[39m), (\u001b[38;5;241m4\u001b[39m, \u001b[38;5;241m5\u001b[39m)]\n\u001b[1;32m----> 4\u001b[0m a \u001b[38;5;241m=\u001b[39m \u001b[43mnp\u001b[49m\u001b[38;5;241;43m.\u001b[39;49m\u001b[43masarray\u001b[49m\u001b[43m(\u001b[49m\u001b[43mx\u001b[49m\u001b[43m)\u001b[49m\n\u001b[0;32m      5\u001b[0m \u001b[38;5;28mprint\u001b[39m(a)\n\u001b[0;32m      6\u001b[0m \u001b[38;5;28mprint\u001b[39m(\u001b[38;5;124m\"\u001b[39m\u001b[38;5;124mNumber of dimensions:\u001b[39m\u001b[38;5;124m\"\u001b[39m, a\u001b[38;5;241m.\u001b[39mndim)\n",
      "\u001b[1;31mValueError\u001b[0m: setting an array element with a sequence. The requested array has an inhomogeneous shape after 1 dimensions. The detected shape was (2,) + inhomogeneous part."
     ]
    }
   ],
   "source": [
    "import numpy as np\n",
    "\n",
    "x = [(1, 2, 3), (4, 5)]\n",
    "a = np.asarray(x)\n",
    "print(a)\n",
    "print(\"Number of dimensions:\", a.ndim)\n",
    "print(\"Shape:\", a.shape)\n"
   ]
  },
  {
   "cell_type": "code",
   "execution_count": 28,
   "id": "4fc36f8c-cf84-4796-954a-4946b5eae8e9",
   "metadata": {},
   "outputs": [
    {
     "data": {
      "text/plain": [
       "array([10, 12, 14, 16, 18])"
      ]
     },
     "execution_count": 28,
     "metadata": {},
     "output_type": "execute_result"
    }
   ],
   "source": [
    "#numpy.arange(start, stop, step, dtype)\n",
    "x = np.arange(10,20,2)\n",
    "x"
   ]
  },
  {
   "cell_type": "markdown",
   "id": "5f658eb0-095f-423f-a387-0d42114263ce",
   "metadata": {},
   "source": [
    "#numpy.linspace(start, stop, num, endpoint, retstep, dtype)\n",
    "\"\"\"Array Creation\n",
    "np.array(): Create an array from any object exposing the array interface.\n",
    "np.zeros(): Create an array filled with zeros.\n",
    "np.ones(): Create an array filled with ones.\n",
    "np.empty(): Create an array with uninitialized values.\n",
    "np.full(): Create an array filled with a specified value.\n",
    "np.arange(): Create an array with regularly spaced values.\n",
    "np.linspace(): Create an array with a specified number of evenly spaced values between two endpoints.\n",
    "np.logspace(): Create an array with values spaced evenly on a log scale.\n",
    "np.eye(): Create a 2D array with ones on the diagonal and zeros elsewhere (identity matrix).\n",
    "np.diag(): Create a diagonal matrix or extract the diagonal of a matrix.\n",
    "Array Manipulation\n",
    "np.reshape(): Reshape an array without changing its data.\n",
    "np.ravel(): Flatten a multi-dimensional array.\n",
    "np.flatten(): Return a copy of the array collapsed into one dimension.\n",
    "np.transpose(): Permute the dimensions of an array.\n",
    "np.concatenate(): Join a sequence of arrays along an existing axis.\n",
    "np.vstack(): Stack arrays vertically (row-wise).\n",
    "np.hstack(): Stack arrays horizontally (column-wise).\n",
    "np.split(): Split an array into multiple sub-arrays.\n",
    "np.tile(): Construct an array by repeating a given array.\n",
    "Mathematical Operations\n",
    "np.add(): Add arguments element-wise.\n",
    "np.subtract(): Subtract arguments element-wise.\n",
    "np.multiply(): Multiply arguments element-wise.\n",
    "np.divide(): Divide arguments element-wise.\n",
    "np.power(): Raise values to the power of another array.\n",
    "np.sqrt(): Compute the square root of an array element-wise.\n",
    "np.exp(): Compute the exponential of all elements in the input array.\n",
    "np.log(): Compute the natural logarithm of all elements in the input array.\n",
    "np.sin(), np.cos(), np.tan(): Trigonometric functions.\n",
    "Statistical Operations\n",
    "np.mean(): Compute the arithmetic mean of elements.\n",
    "np.median(): Compute the median of elements.\n",
    "np.std(): Compute the standard deviation of elements.\n",
    "np.var(): Compute the variance of elements.\n",
    "np.min(): Find the minimum value in an array.\n",
    "np.max(): Find the maximum value in an array.\n",
    "np.sum(): Compute the sum of array elements.\n",
    "np.prod(): Compute the product of array elements.\n",
    "np.cumsum(): Compute the cumulative sum of array elements.\n",
    "np.cumprod(): Compute the cumulative product of array elements.\n",
    "Linear Algebra\n",
    "np.dot(): Compute the dot product of two arrays.\n",
    "np.matmul(): Matrix multiplication of two arrays.\n",
    "np.linalg.inv(): Compute the (multiplicative) inverse of a matrix.\n",
    "np.linalg.svd(): Singular Value Decomposition.\n",
    "np.linalg.eig(): Compute the eigenvalues and right eigenvectors of a square array.\n",
    "Miscellaneous\n",
    "np.unique(): Find the unique elements of an array.\n",
    "np.sort(): Return a sorted copy of an array.\n",
    "np.argsort(): Return the indices that would sort an array.\n",
    "np.where(): Return elements chosen from x or y depending on condition.\n",
    "np.isnan(): Test element-wise for NaN and return a boolean array.\n",
    "np.isfinite(): Test element-wise for finiteness (not infinity or NaN).\n",
    "np.isnan(): Test element-wise for NaNs.\n",
    "Random Sampling\n",
    "np.random.rand(): Generate random numbers from a uniform distribution.\n",
    "np.random.randn(): Generate random numbers from a normal distribution.\n",
    "np.random.randint(): Generate random integers from a specified range.\n",
    "np.random.choice(): Generate random samples from a given array.\"\"\""
   ]
  },
  {
   "cell_type": "code",
   "execution_count": null,
   "id": "5990a008-671a-4199-8e9b-ca43d64d9cd2",
   "metadata": {},
   "outputs": [],
   "source": []
  }
 ],
 "metadata": {
  "kernelspec": {
   "display_name": "Python 3 (ipykernel)",
   "language": "python",
   "name": "python3"
  },
  "language_info": {
   "codemirror_mode": {
    "name": "ipython",
    "version": 3
   },
   "file_extension": ".py",
   "mimetype": "text/x-python",
   "name": "python",
   "nbconvert_exporter": "python",
   "pygments_lexer": "ipython3",
   "version": "3.12.3"
  }
 },
 "nbformat": 4,
 "nbformat_minor": 5
}
